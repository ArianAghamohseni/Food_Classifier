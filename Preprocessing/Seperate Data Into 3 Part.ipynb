{
  "cells": [
    {
      "cell_type": "markdown",
      "metadata": {},
      "source": [
        "## part1 - convert predict column into name of classes"
      ]
    },
    {
      "cell_type": "code",
      "execution_count": 113,
      "metadata": {},
      "outputs": [],
      "source": [
        "import pandas as pd\n",
        "df = pd . read_csv('final2.csv')\n",
        "df.dropna(inplace = True)"
      ]
    },
    {
      "cell_type": "code",
      "execution_count": 147,
      "metadata": {},
      "outputs": [],
      "source": [
        "# baked_potato don't have class in food101\n",
        "df3 = df[df['Label'] == 'baked_potato'] # no in food101"
      ]
    },
    {
      "cell_type": "code",
      "execution_count": 148,
      "metadata": {},
      "outputs": [],
      "source": [
        "# baklava : 443 ok / 237 NO\n",
        "df1 = df[(df['Label'] == 'baklava') & (df['predict'] == 2)] # 100% correct\n",
        "df2 = df[(df['Label'] == 'baklava') & (df['predict'] != 2)] # 100% wrong"
      ]
    },
    {
      "cell_type": "code",
      "execution_count": 149,
      "metadata": {},
      "outputs": [],
      "source": [
        "# caesar_salad : 443 ok / 237 NO\n",
        "dff1 = df[(df['Label'] == 'caesar_salad') & (df['predict'] == 11)] # 100% correct\n",
        "dff2 = df[(df['Label'] == 'caesar_salad') & (df['predict'] != 11)] # 100% wrong\n",
        "df1 = pd . concat([df1 , dff1])\n",
        "df2 = pd . concat([df2 , dff2])"
      ]
    },
    {
      "cell_type": "code",
      "execution_count": 150,
      "metadata": {},
      "outputs": [],
      "source": [
        "# cheese_sandwich don't have class in food101\n",
        "dff3 = df[df['Label'] == 'cheese_sandwich']\n",
        "df3 = pd . concat([df3 , dff3])"
      ]
    },
    {
      "cell_type": "code",
      "execution_count": 151,
      "metadata": {},
      "outputs": [],
      "source": [
        "# caesar_salad : 408 ok / 271 NO\n",
        "dff1 = df[(df['Label'] == 'cheesecake') & (df['predict'] == 16)] # 100% correct\n",
        "dff2 = df[(df['Label'] == 'cheesecake') & (df['predict'] != 16)] # 100% wrong\n",
        "df1 = pd . concat([df1 , dff1])\n",
        "df2 = pd . concat([df2 , dff2])"
      ]
    },
    {
      "cell_type": "code",
      "execution_count": 152,
      "metadata": {},
      "outputs": [],
      "source": [
        "# chicken don't have class in food101\n",
        "dff3 = df[df['Label'] == 'chicken']\n",
        "df3 = pd . concat([df3 , dff3])"
      ]
    },
    {
      "cell_type": "code",
      "execution_count": 153,
      "metadata": {},
      "outputs": [],
      "source": [
        "# chicken_curry don't have accuracy in model\n",
        "dff1 = df[(df['Label'] == 'chicken_curry') & (df['predict'] == 18)]\n",
        "dff3 = df[(df['Label'] == 'chicken_curry') & (df['predict'] != 18)]\n",
        "df1 = pd . concat([df1 , dff1])\n",
        "df3 = pd . concat([df3 , dff3])"
      ]
    },
    {
      "cell_type": "code",
      "execution_count": 154,
      "metadata": {},
      "outputs": [],
      "source": [
        "# caesar_salad : 460 ok / 242 NO\n",
        "dff1 = df[(df['Label'] == 'cheesecake') & (df['predict'] == 21)] # 100% correct\n",
        "dff2 = df[(df['Label'] == 'cheesecake') & (df['predict'] != 21)] # 100% wrong\n",
        "df1 = pd . concat([df1 , dff1])\n",
        "df2 = pd . concat([df2 , dff2])"
      ]
    },
    {
      "cell_type": "code",
      "execution_count": 155,
      "metadata": {},
      "outputs": [],
      "source": [
        "# donuts : 1435 ok / 960 NO\n",
        "dff1 = df[(df['Label'] == 'donuts') & (df['predict'] == 31)] # 100% correct\n",
        "dff2 = df[(df['Label'] == 'donuts') & (df['predict'] != 31)] # 100% wrong\n",
        "df1 = pd . concat([df1 , dff1])\n",
        "df2 = pd . concat([df2 , dff2])"
      ]
    },
    {
      "cell_type": "code",
      "execution_count": 156,
      "metadata": {},
      "outputs": [],
      "source": [
        "# donuts : 557 ok / 142 NO\n",
        "dff1 = df[(df['Label'] == 'eggs') & (df['predict'] == 30)] # 100% correct\n",
        "dff2 = df[(df['Label'] == 'eggs') & (df['predict'] != 30)] # 100% wrong\n",
        "df1 = pd . concat([df1 , dff1])\n",
        "df2 = pd . concat([df2 , dff2])"
      ]
    },
    {
      "cell_type": "code",
      "execution_count": 157,
      "metadata": {},
      "outputs": [],
      "source": [
        "# falafel don't have accuracy in model\n",
        "dff1 = df[(df['Label'] == 'falafel') & (df['predict'] == 36)]\n",
        "dff3 = df[(df['Label'] == 'falafel') & (df['predict'] != 36)]\n",
        "df1 = pd . concat([df1 , dff1])\n",
        "df3 = pd . concat([df3 , dff3])"
      ]
    },
    {
      "cell_type": "code",
      "execution_count": 158,
      "metadata": {},
      "outputs": [],
      "source": [
        "# fish : 346 ok / 342 NO\n",
        "dff1 = df[(df['Label'] == 'fish') & (df['predict'] == 38)] # 100% correct\n",
        "dff2 = df[(df['Label'] == 'fish') & (df['predict'] != 38)] # 100% wrong\n",
        "df1 = pd . concat([df1 , dff1])\n",
        "df2 = pd . concat([df2 , dff2])"
      ]
    },
    {
      "cell_type": "code",
      "execution_count": 159,
      "metadata": {},
      "outputs": [],
      "source": [
        "# french_fries : 1124 ok / 1162 NO\n",
        "dff1 = df[(df['Label'] == 'french_fries') & (df['predict'] == 40)] # 100% correct\n",
        "dff2 = df[(df['Label'] == 'french_fries') & (df['predict'] != 40)] # 100% wrong\n",
        "df1 = pd . concat([df1 , dff1])\n",
        "df2 = pd . concat([df2 , dff2])"
      ]
    },
    {
      "cell_type": "code",
      "execution_count": 160,
      "metadata": {},
      "outputs": [],
      "source": [
        "# hamburger : 1124 ok / 1162 NO\n",
        "dff1 = df[(df['Label'] == 'hamburger') & (df['predict'] == 53)] # 100% correct\n",
        "dff2 = df[(df['Label'] == 'hamburger') & (df['predict'] != 53)] # 100% wrong\n",
        "df1 = pd . concat([df1 , dff1])\n",
        "df2 = pd . concat([df2 , dff2])"
      ]
    },
    {
      "cell_type": "code",
      "execution_count": 161,
      "metadata": {},
      "outputs": [],
      "source": [
        "# hot_dog : 1124 ok / 1162 NO\n",
        "dff1 = df[(df['Label'] == 'hot_dog') & (df['predict'] == 55)] # 100% correct\n",
        "dff2 = df[(df['Label'] == 'hot_dog') & (df['predict'] != 55)] # 100% wrong\n",
        "df1 = pd . concat([df1 , dff1])\n",
        "df2 = pd . concat([df2 , dff2])"
      ]
    },
    {
      "cell_type": "code",
      "execution_count": 162,
      "metadata": {},
      "outputs": [],
      "source": [
        "# ice_cream : 1124 ok / 1162 NO\n",
        "dff1 = df[(df['Label'] == 'ice_cream') & (df['predict'] == 58)] # 100% correct\n",
        "dff2 = df[(df['Label'] == 'ice_cream') & (df['predict'] != 58)] # 100% wrong\n",
        "df1 = pd . concat([df1 , dff1])\n",
        "df2 = pd . concat([df2 , dff2])"
      ]
    },
    {
      "cell_type": "code",
      "execution_count": 163,
      "metadata": {},
      "outputs": [],
      "source": [
        "# lasagna : 240 ok / 453 NO\n",
        "dff1 = df[(df['Label'] == 'ice_cream') & (df['predict'] == 59)] # 100% correct\n",
        "dff3 = df[(df['Label'] == 'ice_cream') & (df['predict'] != 59)] # 100% wrong\n",
        "df1 = pd . concat([df1 , dff1])\n",
        "df3 = pd . concat([df3 , dff3])"
      ]
    },
    {
      "cell_type": "code",
      "execution_count": 164,
      "metadata": {},
      "outputs": [],
      "source": [
        "# omelette : 375 ok / 340 NO\n",
        "dff1 = df[(df['Label'] == 'omelette') & (df['predict'] == 67)] # 100% correct\n",
        "dff2 = df[(df['Label'] == 'omelette') & (df['predict'] != 67)] # 100% wrong\n",
        "df1 = pd . concat([df1 , dff1])\n",
        "df2 = pd . concat([df2 , dff2])"
      ]
    },
    {
      "cell_type": "code",
      "execution_count": 165,
      "metadata": {},
      "outputs": [],
      "source": [
        "# pizza : 558 ok / 329 NO\n",
        "dff1 = df[(df['Label'] == 'pizza') & (df['predict'] == 76)] # 100% correct\n",
        "dff2 = df[(df['Label'] == 'pizza') & (df['predict'] != 76)] # 100% wrong\n",
        "df1 = pd . concat([df1 , dff1])\n",
        "df2 = pd . concat([df2 , dff2])"
      ]
    },
    {
      "cell_type": "code",
      "execution_count": 166,
      "metadata": {},
      "outputs": [],
      "source": [
        "# spaghetti : 1275 ok / 896 NO\n",
        "dff1 = df[(df['Label'] == 'spaghetti') & ((df['predict'] == 90) | (df['predict'] == 91))] # 100% correct\n",
        "dff2 = df[(df['Label'] == 'spaghetti') & ((df['predict'] != 90) & (df['predict'] != 91))] # 100% wrong\n",
        "df1 = pd . concat([df1 , dff1])\n",
        "df2 = pd . concat([df2 , dff2])"
      ]
    },
    {
      "cell_type": "code",
      "execution_count": 173,
      "metadata": {},
      "outputs": [],
      "source": [
        "# steak : 197 ok / 484 NO\n",
        "dff1 = df[(df['Label'] == 'steak') & (df['predict'] == 93)] # 100% correct\n",
        "dff3 = df[(df['Label'] == 'steak') & (df['predict'] != 93)] # 100% wrong\n",
        "df1 = pd . concat([df1 , dff1])\n",
        "df3 = pd . concat([df3 , dff3])"
      ]
    },
    {
      "cell_type": "code",
      "execution_count": null,
      "metadata": {},
      "outputs": [],
      "source": [
        "# sushi : 409 ok / 281 NO\n",
        "dff1 = df[(df['Label'] == 'sushi') & (df['predict'] == 95)] # 100% correct\n",
        "dff2 = df[(df['Label'] == 'sushi') & (df['predict'] != 95)] # 100% wrong\n",
        "df1 = pd . concat([df1 , dff1])\n",
        "df2 = pd . concat([df2 , dff2])"
      ]
    },
    {
      "cell_type": "code",
      "execution_count": 36,
      "metadata": {},
      "outputs": [],
      "source": [
        "df.to_csv('finalexcel.csv' , index = False)"
      ]
    },
    {
      "cell_type": "markdown",
      "metadata": {},
      "source": [
        "## part2 - make critical dataframe"
      ]
    },
    {
      "cell_type": "code",
      "execution_count": 37,
      "metadata": {},
      "outputs": [],
      "source": [
        "df = pd . read_csv('finalexcel.csv')"
      ]
    },
    {
      "cell_type": "code",
      "execution_count": 38,
      "metadata": {},
      "outputs": [],
      "source": [
        "dff = df[df['Label'] != df['predict']]"
      ]
    },
    {
      "cell_type": "code",
      "execution_count": 27,
      "metadata": {},
      "outputs": [
        {
          "name": "stdout",
          "output_type": "stream",
          "text": [
            "shape of main dataframe : (24084, 3)\n",
            "shape of critical dataframe : (15295, 3)\n"
          ]
        }
      ],
      "source": [
        "print(f'shape of main dataframe : {df . shape}')\n",
        "print(f'shape of critical dataframe : {dff . shape}')"
      ]
    },
    {
      "cell_type": "code",
      "execution_count": 39,
      "metadata": {},
      "outputs": [],
      "source": [
        "# labels to removed\n",
        "ltr = ['chicken', 'baked_potato', 'cheese_sandwich']\n",
        "# filter dataframe\n",
        "dff = dff[~dff['Label'] . isin(ltr)]"
      ]
    },
    {
      "cell_type": "code",
      "execution_count": 42,
      "metadata": {},
      "outputs": [],
      "source": [
        "dff.to_csv('critical.csv' , index = False)"
      ]
    },
    {
      "cell_type": "code",
      "execution_count": 45,
      "metadata": {},
      "outputs": [],
      "source": [
        "dff2 = df[df['Label'] == df['predict']]"
      ]
    },
    {
      "cell_type": "code",
      "execution_count": 48,
      "metadata": {},
      "outputs": [],
      "source": [
        "dff2 . to_csv('critical2.csv' , index = False)"
      ]
    },
    {
      "cell_type": "code",
      "execution_count": 49,
      "metadata": {},
      "outputs": [],
      "source": [
        "dff3 = df[(df['Label'] == 'baked_potato') | (df['Label'] == 'chicken') |(df['Label'] == 'cheese_sandwich')]"
      ]
    },
    {
      "cell_type": "code",
      "execution_count": 51,
      "metadata": {},
      "outputs": [],
      "source": [
        "dff3.to_csv('ciritcal3.csv' , index = False)"
      ]
    }
  ],
  "metadata": {
    "colab": {
      "provenance": []
    },
    "kernelspec": {
      "display_name": "Python 3",
      "language": "python",
      "name": "python3"
    },
    "language_info": {
      "codemirror_mode": {
        "name": "ipython",
        "version": 3
      },
      "file_extension": ".py",
      "mimetype": "text/x-python",
      "name": "python",
      "nbconvert_exporter": "python",
      "pygments_lexer": "ipython3",
      "version": "3.11.3"
    }
  },
  "nbformat": 4,
  "nbformat_minor": 0
}
